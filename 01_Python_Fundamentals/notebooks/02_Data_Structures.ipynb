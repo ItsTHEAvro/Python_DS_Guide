{
 "cells": [
  {
   "cell_type": "markdown",
   "id": "9c8b3d64",
   "metadata": {},
   "source": [
    "# Python Lists and Data Structures\n",
    "\n",
    "This notebook covers key Python data structures used in data science:\n",
    "- Lists\n",
    "- Dictionaries\n",
    "- Tuples\n",
    "- Sets"
   ]
  },
  {
   "cell_type": "markdown",
   "id": "bcab558c",
   "metadata": {},
   "source": [
    "## Lists\n",
    "\n",
    "Lists are ordered, mutable collections that can store mixed data types."
   ]
  },
  {
   "cell_type": "code",
   "execution_count": null,
   "id": "9080b3e4",
   "metadata": {},
   "outputs": [],
   "source": [
    "# Creating and manipulating lists\n",
    "languages = ['Python', 'R', 'SQL', 'Java']\n",
    "print(f\"Original list: {languages}\")\n",
    "\n",
    "# Adding elements\n",
    "languages.append('Julia')\n",
    "print(f\"After append: {languages}\")\n",
    "\n",
    "# Indexing\n",
    "print(f\"First element: {languages[0]}\")\n",
    "print(f\"Last element: {languages[-1]}\")\n",
    "\n",
    "# Slicing\n",
    "print(f\"Elements 1-3: {languages[1:3]}\")\n",
    "print(f\"All elements except the last two: {languages[:-2]}\")\n",
    "print(f\"Every second element: {languages[::2]}\")"
   ]
  },
  {
   "cell_type": "code",
   "execution_count": null,
   "id": "fa7876ec",
   "metadata": {},
   "outputs": [],
   "source": [
    "# List methods\n",
    "languages = ['Python', 'R', 'SQL', 'Java']\n",
    "\n",
    "# Insert at specific position\n",
    "languages.insert(1, 'JavaScript')\n",
    "print(f\"After insert: {languages}\")\n",
    "\n",
    "# Remove an element\n",
    "languages.remove('SQL')\n",
    "print(f\"After remove: {languages}\")\n",
    "\n",
    "# Pop an element (removes and returns)\n",
    "popped = languages.pop(2)\n",
    "print(f\"Popped element: {popped}\")\n",
    "print(f\"After pop: {languages}\")\n",
    "\n",
    "# Sort the list\n",
    "languages.sort()\n",
    "print(f\"After sorting: {languages}\")\n",
    "\n",
    "# Reverse the list\n",
    "languages.reverse()\n",
    "print(f\"After reversing: {languages}\")"
   ]
  },
  {
   "cell_type": "markdown",
   "id": "d45398f0",
   "metadata": {},
   "source": [
    "## Dictionaries\n",
    "\n",
    "Dictionaries are mutable collections of key-value pairs. Keys must be immutable and unique."
   ]
  },
  {
   "cell_type": "code",
   "execution_count": null,
   "id": "6c1cab79",
   "metadata": {},
   "outputs": [],
   "source": [
    "# Creating and accessing dictionaries\n",
    "data_scientist = {\n",
    "    'name': 'Alex',\n",
    "    'skills': ['Python', 'Machine Learning', 'SQL'],\n",
    "    'experience_years': 4,\n",
    "    'education': {'degree': 'Master\\'s', 'field': 'Data Science'}\n",
    "}\n",
    "\n",
    "# Accessing values\n",
    "print(f\"Name: {data_scientist['name']}\")\n",
    "print(f\"First skill: {data_scientist['skills'][0]}\")\n",
    "print(f\"Degree: {data_scientist['education']['degree']}\")\n",
    "\n",
    "# Adding and modifying entries\n",
    "data_scientist['location'] = 'New York'\n",
    "data_scientist['experience_years'] = 5\n",
    "\n",
    "print(f\"Updated dictionary: {data_scientist}\")\n",
    "\n",
    "# Dictionary methods\n",
    "print(f\"Keys: {list(data_scientist.keys())}\")\n",
    "print(f\"Values: {list(data_scientist.values())}\")\n",
    "print(f\"Items: {list(data_scientist.items())}\")"
   ]
  },
  {
   "cell_type": "markdown",
   "id": "059fae71",
   "metadata": {},
   "source": [
    "## Tuples\n",
    "\n",
    "Tuples are immutable, ordered collections. They're often used to store related pieces of data."
   ]
  },
  {
   "cell_type": "code",
   "execution_count": null,
   "id": "d43557c5",
   "metadata": {},
   "outputs": [],
   "source": [
    "# Creating and using tuples\n",
    "point = (3, 4)\n",
    "person = ('John', 'Doe', 35, 'Developer')\n",
    "\n",
    "# Unpacking tuples\n",
    "x, y = point\n",
    "print(f\"x={x}, y={y}\")\n",
    "\n",
    "first_name, last_name, age, occupation = person\n",
    "print(f\"{first_name} {last_name} is {age} years old and works as a {occupation}\")\n",
    "\n",
    "# Tuples are immutable\n",
    "try:\n",
    "    person[0] = 'Jane'  # This will raise an error\n",
    "except TypeError as e:\n",
    "    print(f\"Error: {e}\")"
   ]
  },
  {
   "cell_type": "markdown",
   "id": "44d60f75",
   "metadata": {},
   "source": [
    "## Sets\n",
    "\n",
    "Sets are unordered collections of unique elements. They're useful for membership testing and eliminating duplicates."
   ]
  },
  {
   "cell_type": "code",
   "execution_count": null,
   "id": "c121fc01",
   "metadata": {},
   "outputs": [],
   "source": [
    "# Creating and using sets\n",
    "fruits = {'apple', 'banana', 'orange', 'apple', 'pear'}\n",
    "print(f\"Fruits set (notice no duplicates): {fruits}\")\n",
    "\n",
    "vegetables = {'carrot', 'lettuce', 'peas'}\n",
    "\n",
    "# Set operations\n",
    "print(f\"'apple' in fruits: {'apple' in fruits}\")\n",
    "fruits.add('grape')\n",
    "print(f\"After adding 'grape': {fruits}\")\n",
    "fruits.remove('banana')\n",
    "print(f\"After removing 'banana': {fruits}\")\n",
    "\n",
    "# Set operations with multiple sets\n",
    "all_foods = fruits.union(vegetables)\n",
    "print(f\"All foods (union): {all_foods}\")"
   ]
  },
  {
   "cell_type": "markdown",
   "id": "b513914f",
   "metadata": {},
   "source": [
    "## Mini Practice Task\n",
    "\n",
    "Create a dictionary representing a dataset with keys for 'name', 'rows', 'columns', and 'missing_values'. Write code to add a new key 'data_types' with a list of common data types."
   ]
  },
  {
   "cell_type": "code",
   "execution_count": null,
   "id": "f4772b91",
   "metadata": {},
   "outputs": [],
   "source": [
    "# Your solution here\n",
    "dataset = {\n",
    "    'name': 'customer_data',\n",
    "    'rows': 1500,\n",
    "    'columns': 8,\n",
    "    'missing_values': 45\n",
    "}\n",
    "\n",
    "# Add new key 'data_types' with a list of common data types\n",
    "dataset['data_types'] = ['int', 'float', 'str', 'datetime', 'categorical']\n",
    "\n",
    "print(\"Dataset information:\")\n",
    "for key, value in dataset.items():\n",
    "    print(f\"{key}: {value}\")"
   ]
  }
 ],
 "metadata": {
  "language_info": {
   "name": "python"
  }
 },
 "nbformat": 4,
 "nbformat_minor": 5
}
