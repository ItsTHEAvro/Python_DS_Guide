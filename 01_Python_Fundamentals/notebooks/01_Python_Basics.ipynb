{
 "cells": [
  {
   "cell_type": "markdown",
   "id": "b39fd230",
   "metadata": {},
   "source": [
    "# Python Basics\n",
    "\n",
    "This notebook covers fundamental Python concepts."
   ]
  },
  {
   "cell_type": "code",
   "execution_count": null,
   "id": "13f2d21f",
   "metadata": {},
   "outputs": [],
   "source": [
    "# Your solution here\n",
    "my_name = \"Sarah\"\n",
    "my_age = 28\n",
    "favorite_language = \"Python\"  # Try changing this to \"R\", \"JavaScript\", or something else!\n",
    "\n",
    "if favorite_language.lower() == \"python\":\n",
    "    print(f\"Great choice, {my_name}! Python is excellent for data science.\")\n",
    "elif favorite_language.lower() == \"r\":\n",
    "    print(f\"{my_name}, R is fantastic for statistical analysis!\")\n",
    "elif favorite_language.lower() == \"javascript\":\n",
    "    print(f\"Interesting choice, {my_name}! JavaScript is perfect for interactive visualizations.\")\n",
    "else:\n",
    "    print(f\"{favorite_language} is a solid programming language, {my_name}!\")"
   ]
  }
 ],
 "metadata": {
  "language_info": {
   "name": "python"
  }
 },
 "nbformat": 4,
 "nbformat_minor": 5
}
