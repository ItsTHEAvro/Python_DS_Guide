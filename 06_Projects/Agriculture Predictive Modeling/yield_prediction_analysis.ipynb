{
 "cells": [
  {
   "cell_type": "markdown",
   "id": "dc6c5b71",
   "metadata": {},
   "source": [
    "# Agricultural Yield Prediction Project\n",
    "\n",
    "This notebook provides a comprehensive analysis of soil measurements and their impact on crop yields. We'll develop a predictive model to help farmers optimize their agricultural practices."
   ]
  },
  {
   "cell_type": "markdown",
   "id": "554afccb",
   "metadata": {},
   "source": [
    "## 1. Setup and Data Loading\n",
    "\n",
    "First, we'll import the necessary libraries and load the dataset."
   ]
  },
  {
   "cell_type": "code",
   "execution_count": null,
   "id": "fad59dba",
   "metadata": {},
   "outputs": [
    {
     "ename": "",
     "evalue": "",
     "output_type": "error",
     "traceback": [
      "\u001b[1;31mRunning cells with 'Python 3.12.3' requires the ipykernel package.\n",
      "\u001b[1;31m<a href='command:jupyter.createPythonEnvAndSelectController'>Create a Python Environment</a> with the required packages.\n",
      "\u001b[1;31mOr install 'ipykernel' using the command: '\"c:/Users/Jyotirmoy Avro/AppData/Local/Programs/Python/Python312/python.exe\" -m pip install ipykernel -U --user --force-reinstall'"
     ]
    }
   ],
   "source": [
    "# Import required libraries\n",
    "import pandas as pd\n",
    "import numpy as np\n",
    "import matplotlib.pyplot as plt\n",
    "import seaborn as sns\n",
    "from sklearn.model_selection import train_test_split, cross_val_score, GridSearchCV\n",
    "from sklearn.preprocessing import StandardScaler, LabelEncoder, OneHotEncoder\n",
    "from sklearn.compose import ColumnTransformer\n",
    "from sklearn.pipeline import Pipeline\n",
    "from sklearn.linear_model import LinearRegression\n",
    "from sklearn.ensemble import RandomForestRegressor, GradientBoostingRegressor\n",
    "from sklearn.svm import SVR\n",
    "from sklearn.metrics import mean_absolute_error, mean_squared_error, r2_score\n",
    "import warnings\n",
    "\n",
    "# Suppress warnings for cleaner output\n",
    "warnings.filterwarnings('ignore')\n",
    "\n",
    "# Set plotting style\n",
    "plt.style.use('seaborn-whitegrid')\n",
    "sns.set_palette(\"Set2\")\n",
    "plt.rcParams['figure.figsize'] = (12, 8)\n",
    "\n",
    "# Display all columns\n",
    "pd.set_option('display.max_columns', None)"
   ]
  },
  {
   "cell_type": "code",
   "execution_count": null,
   "id": "85832875",
   "metadata": {},
   "outputs": [],
   "source": [
    "# Load the dataset\n",
    "df = pd.read_csv('soil_measures.csv')\n",
    "\n",
    "# Display the first few rows\n",
    "df.head()"
   ]
  },
  {
   "cell_type": "markdown",
   "id": "22bbb348",
   "metadata": {},
   "source": [
    "Looking at the dataset, we see it has the following columns:\n",
    "- N: Nitrogen content (ppm)\n",
    "- P: Phosphorus content (ppm)\n",
    "- K: Potassium content (ppm)\n",
    "- ph: pH level of soil (acidity/alkalinity)\n",
    "- crop: Type of crop\n",
    "\n",
    "Note: Based on the actual data, the structure is different from what was described in the README. We'll work with the actual data we have."
   ]
  },
  {
   "cell_type": "code",
   "execution_count": null,
   "id": "54d3ddd4",
   "metadata": {},
   "outputs": [],
   "source": [
    "# Basic information about the dataset\n",
    "print(\"Dataset shape:\", df.shape)\n",
    "print(\"\\nDataset info:\")\n",
    "df.info()\n",
    "print(\"\\nSummary statistics:\")\n",
    "df.describe()"
   ]
  },
  {
   "cell_type": "code",
   "execution_count": null,
   "id": "43dd70d0",
   "metadata": {},
   "outputs": [],
   "source": [
    "# Check for missing values\n",
    "print(\"Missing values in each column:\")\n",
    "df.isnull().sum()"
   ]
  },
  {
   "cell_type": "code",
   "execution_count": null,
   "id": "38df718c",
   "metadata": {},
   "outputs": [],
   "source": [
    "# Check unique crop types\n",
    "print(f\"Number of unique crops: {df['crop'].nunique()}\")\n",
    "print(\"Crop types:\")\n",
    "df['crop'].value_counts().sort_values(ascending=False)"
   ]
  },
  {
   "cell_type": "markdown",
   "id": "46890f9d",
   "metadata": {},
   "source": [
    "## 2. Exploratory Data Analysis (EDA)\n",
    "\n",
    "Now we'll explore the relationships between soil properties and crop types."
   ]
  },
  {
   "cell_type": "code",
   "execution_count": null,
   "id": "c41fbae6",
   "metadata": {},
   "outputs": [],
   "source": [
    "# Distribution of numerical features\n",
    "fig, axes = plt.subplots(2, 2, figsize=(16, 10))\n",
    "axes = axes.flatten()\n",
    "\n",
    "sns.histplot(df['N'], kde=True, ax=axes[0])\n",
    "axes[0].set_title('Distribution of Nitrogen Content')\n",
    "\n",
    "sns.histplot(df['P'], kde=True, ax=axes[1])\n",
    "axes[1].set_title('Distribution of Phosphorus Content')\n",
    "\n",
    "sns.histplot(df['K'], kde=True, ax=axes[2])\n",
    "axes[2].set_title('Distribution of Potassium Content')\n",
    "\n",
    "sns.histplot(df['ph'], kde=True, ax=axes[3])\n",
    "axes[3].set_title('Distribution of pH Levels')\n",
    "\n",
    "plt.tight_layout()\n",
    "plt.show()"
   ]
  },
  {
   "cell_type": "code",
   "execution_count": null,
   "id": "5f424474",
   "metadata": {},
   "outputs": [],
   "source": [
    "# Box plots of soil properties by crop type\n",
    "fig, axes = plt.subplots(2, 2, figsize=(18, 12))\n",
    "\n",
    "sns.boxplot(x='crop', y='N', data=df, ax=axes[0, 0])\n",
    "axes[0, 0].set_title('Nitrogen Content by Crop Type')\n",
    "axes[0, 0].set_xticklabels(axes[0, 0].get_xticklabels(), rotation=90)\n",
    "\n",
    "sns.boxplot(x='crop', y='P', data=df, ax=axes[0, 1])\n",
    "axes[0, 1].set_title('Phosphorus Content by Crop Type')\n",
    "axes[0, 1].set_xticklabels(axes[0, 1].get_xticklabels(), rotation=90)\n",
    "\n",
    "sns.boxplot(x='crop', y='K', data=df, ax=axes[1, 0])\n",
    "axes[1, 0].set_title('Potassium Content by Crop Type')\n",
    "axes[1, 0].set_xticklabels(axes[1, 0].get_xticklabels(), rotation=90)\n",
    "\n",
    "sns.boxplot(x='crop', y='ph', data=df, ax=axes[1, 1])\n",
    "axes[1, 1].set_title('pH Levels by Crop Type')\n",
    "axes[1, 1].set_xticklabels(axes[1, 1].get_xticklabels(), rotation=90)\n",
    "\n",
    "plt.tight_layout()\n",
    "plt.show()"
   ]
  },
  {
   "cell_type": "code",
   "execution_count": null,
   "id": "3670a2f3",
   "metadata": {},
   "outputs": [],
   "source": [
    "# Correlation heatmap\n",
    "plt.figure(figsize=(10, 8))\n",
    "correlation = df.select_dtypes(include=['float64', 'int64']).corr()\n",
    "mask = np.triu(correlation)\n",
    "sns.heatmap(correlation, annot=True, cmap='coolwarm', fmt='.2f', mask=mask)\n",
    "plt.title('Correlation Heatmap of Soil Properties')\n",
    "plt.show()"
   ]
  },
  {
   "cell_type": "code",
   "execution_count": null,
   "id": "5d5b19c0",
   "metadata": {},
   "outputs": [],
   "source": [
    "# Pairplot to visualize relationships\n",
    "sns.pairplot(df, hue='crop', vars=['N', 'P', 'K', 'ph'], height=2.5, \n",
    "             plot_kws={'alpha': 0.6, 's': 30, 'edgecolor': 'k', 'linewidth': 0.5})\n",
    "plt.suptitle('Pair Plot of Soil Properties by Crop Type', y=1.02, fontsize=16)\n",
    "plt.show()"
   ]
  },
  {
   "cell_type": "markdown",
   "id": "295d53d7",
   "metadata": {},
   "source": [
    "## 3. Feature Engineering\n",
    "\n",
    "Let's create some additional features that might be useful for prediction."
   ]
  },
  {
   "cell_type": "code",
   "execution_count": null,
   "id": "90d48096",
   "metadata": {},
   "outputs": [],
   "source": [
    "# Create copy of the dataframe for feature engineering\n",
    "df_features = df.copy()\n",
    "\n",
    "# Calculate N:P ratio\n",
    "df_features['N_P_ratio'] = df_features['N'] / df_features['P']\n",
    "\n",
    "# Calculate N:K ratio\n",
    "df_features['N_K_ratio'] = df_features['N'] / df_features['K']\n",
    "\n",
    "# Calculate P:K ratio\n",
    "df_features['P_K_ratio'] = df_features['P'] / df_features['K']\n",
    "\n",
    "# Calculate NPK sum (total nutrient content)\n",
    "df_features['NPK_sum'] = df_features['N'] + df_features['P'] + df_features['K']\n",
    "\n",
    "# Check if pH is acidic, neutral or alkaline\n",
    "df_features['pH_category'] = pd.cut(df_features['ph'], \n",
    "                                   bins=[0, 6.5, 7.5, 14], \n",
    "                                   labels=['acidic', 'neutral', 'alkaline'])\n",
    "\n",
    "# Display the first few rows with new features\n",
    "df_features.head()"
   ]
  },
  {
   "cell_type": "markdown",
   "id": "441d8444",
   "metadata": {},
   "source": [
    "## 4. Prepare Data for Modeling\n",
    "\n",
    "Since our goal is to predict the most suitable crop based on soil conditions, we'll treat this as a classification problem."
   ]
  },
  {
   "cell_type": "code",
   "execution_count": null,
   "id": "e9c49110",
   "metadata": {},
   "outputs": [],
   "source": [
    "# Separate features and target variable\n",
    "X = df_features.drop(['crop', 'pH_category'], axis=1)  # Features\n",
    "y = df_features['crop']  # Target variable\n",
    "\n",
    "# Split the data into training and testing sets (80% training, 20% testing)\n",
    "X_train, X_test, y_train, y_test = train_test_split(X, y, test_size=0.2, random_state=42)\n",
    "\n",
    "print(f\"Training set shape: {X_train.shape}\")\n",
    "print(f\"Testing set shape: {X_test.shape}\")"
   ]
  },
  {
   "cell_type": "code",
   "execution_count": null,
   "id": "3ce8bd94",
   "metadata": {},
   "outputs": [],
   "source": [
    "# Standardize the features\n",
    "scaler = StandardScaler()\n",
    "X_train_scaled = scaler.fit_transform(X_train)\n",
    "X_test_scaled = scaler.transform(X_test)\n",
    "\n",
    "# Convert to dataframe for better visualization\n",
    "X_train_scaled_df = pd.DataFrame(X_train_scaled, columns=X_train.columns)\n",
    "X_train_scaled_df.head()"
   ]
  },
  {
   "cell_type": "markdown",
   "id": "4f9a9af8",
   "metadata": {},
   "source": [
    "## 5. Model Building and Evaluation\n",
    "\n",
    "We'll try several classification algorithms and compare their performance."
   ]
  },
  {
   "cell_type": "code",
   "execution_count": null,
   "id": "2f10d43f",
   "metadata": {},
   "outputs": [],
   "source": [
    "# Import classification algorithms\n",
    "from sklearn.ensemble import RandomForestClassifier\n",
    "from sklearn.svm import SVC\n",
    "from sklearn.neighbors import KNeighborsClassifier\n",
    "from sklearn.tree import DecisionTreeClassifier\n",
    "from sklearn.ensemble import GradientBoostingClassifier\n",
    "from sklearn.metrics import accuracy_score, classification_report, confusion_matrix\n",
    "\n",
    "# Define the models to evaluate\n",
    "models = {\n",
    "    'Random Forest': RandomForestClassifier(random_state=42),\n",
    "    'SVM': SVC(random_state=42),\n",
    "    'K-Nearest Neighbors': KNeighborsClassifier(),\n",
    "    'Decision Tree': DecisionTreeClassifier(random_state=42),\n",
    "    'Gradient Boosting': GradientBoostingClassifier(random_state=42)\n",
    "}\n",
    "\n",
    "# Train and evaluate each model\n",
    "results = {}\n",
    "\n",
    "for name, model in models.items():\n",
    "    print(f\"Training {name}...\")\n",
    "    model.fit(X_train_scaled, y_train)\n",
    "    \n",
    "    # Make predictions\n",
    "    y_pred = model.predict(X_test_scaled)\n",
    "    \n",
    "    # Calculate accuracy\n",
    "    accuracy = accuracy_score(y_test, y_pred)\n",
    "    results[name] = accuracy\n",
    "    \n",
    "    # Print results\n",
    "    print(f\"{name} Accuracy: {accuracy:.4f}\")\n",
    "    print(\"Classification Report:\")\n",
    "    print(classification_report(y_test, y_pred))\n",
    "    print(\"-\" * 60)"
   ]
  },
  {
   "cell_type": "code",
   "execution_count": null,
   "id": "a3d1da81",
   "metadata": {},
   "outputs": [],
   "source": [
    "# Compare model performances\n",
    "plt.figure(figsize=(12, 6))\n",
    "models_df = pd.DataFrame({'Model': list(results.keys()), 'Accuracy': list(results.values())})\n",
    "models_df = models_df.sort_values(by='Accuracy', ascending=False)\n",
    "\n",
    "sns.barplot(x='Accuracy', y='Model', data=models_df, palette='viridis')\n",
    "plt.title('Model Accuracy Comparison')\n",
    "plt.xlabel('Accuracy')\n",
    "plt.ylabel('Model')\n",
    "plt.xlim(0, 1)\n",
    "plt.grid(axis='x')\n",
    "\n",
    "for index, value in enumerate(models_df['Accuracy']):\n",
    "    plt.text(value + 0.01, index, f'{value:.4f}')\n",
    "\n",
    "plt.tight_layout()\n",
    "plt.show()"
   ]
  },
  {
   "cell_type": "markdown",
   "id": "05b1fecf",
   "metadata": {},
   "source": [
    "Based on the model comparison, we'll select the best performing model for further tuning and analysis."
   ]
  },
  {
   "cell_type": "code",
   "execution_count": null,
   "id": "3c222d2e",
   "metadata": {},
   "outputs": [],
   "source": [
    "# Get the best model (assuming Random Forest for this example, will be replaced by actual best model)\n",
    "best_model_name = models_df.iloc[0]['Model']\n",
    "print(f\"Best performing model: {best_model_name}\")\n",
    "\n",
    "# Select the best model\n",
    "best_model = models[best_model_name]"
   ]
  },
  {
   "cell_type": "code",
   "execution_count": null,
   "id": "d60c1a20",
   "metadata": {},
   "outputs": [],
   "source": [
    "# If the best model is Random Forest, let's analyze feature importance\n",
    "if best_model_name == 'Random Forest':\n",
    "    # Get feature importances\n",
    "    importances = best_model.feature_importances_\n",
    "    \n",
    "    # Create a dataframe for better visualization\n",
    "    feature_importance_df = pd.DataFrame({\n",
    "        'Feature': X_train.columns,\n",
    "        'Importance': importances\n",
    "    }).sort_values(by='Importance', ascending=False)\n",
    "    \n",
    "    # Plot feature importances\n",
    "    plt.figure(figsize=(10, 6))\n",
    "    sns.barplot(x='Importance', y='Feature', data=feature_importance_df, palette='viridis')\n",
    "    plt.title('Feature Importance for Crop Prediction')\n",
    "    plt.xlabel('Importance')\n",
    "    plt.ylabel('Feature')\n",
    "    plt.grid(axis='x')\n",
    "    plt.tight_layout()\n",
    "    plt.show()"
   ]
  },
  {
   "cell_type": "markdown",
   "id": "55504553",
   "metadata": {},
   "source": [
    "## 6. Hyperparameter Tuning for the Best Model"
   ]
  },
  {
   "cell_type": "code",
   "execution_count": null,
   "id": "3481c852",
   "metadata": {},
   "outputs": [],
   "source": [
    "# Define hyperparameter grids for different models\n",
    "param_grids = {\n",
    "    'Random Forest': {\n",
    "        'n_estimators': [50, 100, 200],\n",
    "        'max_depth': [None, 10, 20, 30],\n",
    "        'min_samples_split': [2, 5, 10],\n",
    "        'min_samples_leaf': [1, 2, 4]\n",
    "    },\n",
    "    'SVM': {\n",
    "        'C': [0.1, 1, 10, 100],\n",
    "        'gamma': ['scale', 'auto', 0.1, 0.01],\n",
    "        'kernel': ['rbf', 'poly', 'sigmoid']\n",
    "    },\n",
    "    'K-Nearest Neighbors': {\n",
    "        'n_neighbors': [3, 5, 7, 9, 11],\n",
    "        'weights': ['uniform', 'distance'],\n",
    "        'metric': ['euclidean', 'manhattan']\n",
    "    },\n",
    "    'Decision Tree': {\n",
    "        'max_depth': [None, 10, 20, 30],\n",
    "        'min_samples_split': [2, 5, 10],\n",
    "        'min_samples_leaf': [1, 2, 4],\n",
    "        'criterion': ['gini', 'entropy']\n",
    "    },\n",
    "    'Gradient Boosting': {\n",
    "        'n_estimators': [50, 100, 200],\n",
    "        'learning_rate': [0.01, 0.1, 0.2],\n",
    "        'max_depth': [3, 4, 5],\n",
    "        'subsample': [0.8, 0.9, 1.0]\n",
    "    }\n",
    "}"
   ]
  },
  {
   "cell_type": "code",
   "execution_count": null,
   "id": "52d88c04",
   "metadata": {},
   "outputs": [],
   "source": [
    "# Tune hyperparameters for the best model\n",
    "print(f\"Tuning hyperparameters for {best_model_name}...\")\n",
    "param_grid = param_grids[best_model_name]\n",
    "\n",
    "# Perform grid search with cross-validation\n",
    "grid_search = GridSearchCV(\n",
    "    estimator=models[best_model_name],\n",
    "    param_grid=param_grid,\n",
    "    cv=5,\n",
    "    scoring='accuracy',\n",
    "    n_jobs=-1,\n",
    "    verbose=1\n",
    ")\n",
    "\n",
    "grid_search.fit(X_train_scaled, y_train)\n",
    "\n",
    "# Print best parameters\n",
    "print(\"\\nBest parameters:\")\n",
    "print(grid_search.best_params_)\n",
    "print(f\"\\nBest cross-validation accuracy: {grid_search.best_score_:.4f}\")"
   ]
  },
  {
   "cell_type": "code",
   "execution_count": null,
   "id": "4ca26b75",
   "metadata": {},
   "outputs": [],
   "source": [
    "# Use the tuned model for final evaluation\n",
    "tuned_model = grid_search.best_estimator_\n",
    "y_pred_tuned = tuned_model.predict(X_test_scaled)\n",
    "\n",
    "# Calculate accuracy\n",
    "tuned_accuracy = accuracy_score(y_test, y_pred_tuned)\n",
    "print(f\"Tuned {best_model_name} Accuracy: {tuned_accuracy:.4f}\")\n",
    "print(\"\\nClassification Report:\")\n",
    "print(classification_report(y_test, y_pred_tuned))"
   ]
  },
  {
   "cell_type": "code",
   "execution_count": null,
   "id": "345a2015",
   "metadata": {},
   "outputs": [],
   "source": [
    "# Plot confusion matrix\n",
    "plt.figure(figsize=(14, 10))\n",
    "cm = confusion_matrix(y_test, y_pred_tuned)\n",
    "crop_names = sorted(y.unique())\n",
    "\n",
    "sns.heatmap(cm, annot=True, fmt='d', cmap='Blues', xticklabels=crop_names, yticklabels=crop_names)\n",
    "plt.title('Confusion Matrix')\n",
    "plt.ylabel('True Crop')\n",
    "plt.xlabel('Predicted Crop')\n",
    "plt.xticks(rotation=90)\n",
    "plt.yticks(rotation=0)\n",
    "plt.tight_layout()\n",
    "plt.show()"
   ]
  },
  {
   "cell_type": "markdown",
   "id": "d578f582",
   "metadata": {},
   "source": [
    "## 7. Crop Recommendation System\n",
    "\n",
    "Now we'll create a function that can recommend crops based on soil parameters."
   ]
  },
  {
   "cell_type": "code",
   "execution_count": null,
   "id": "0f4113aa",
   "metadata": {},
   "outputs": [],
   "source": [
    "def recommend_crop(N, P, K, ph):\n",
    "    # Create input data with the same features as training data\n",
    "    input_data = pd.DataFrame({\n",
    "        'N': [N],\n",
    "        'P': [P],\n",
    "        'K': [K],\n",
    "        'ph': [ph],\n",
    "        'N_P_ratio': [N / P],\n",
    "        'N_K_ratio': [N / K],\n",
    "        'P_K_ratio': [P / K],\n",
    "        'NPK_sum': [N + P + K]\n",
    "    })\n",
    "    \n",
    "    # Scale the input data\n",
    "    input_scaled = scaler.transform(input_data)\n",
    "    \n",
    "    # Make prediction\n",
    "    crop = tuned_model.predict(input_scaled)[0]\n",
    "    \n",
    "    # Get probability estimates if model supports it\n",
    "    if hasattr(tuned_model, 'predict_proba'):\n",
    "        probabilities = tuned_model.predict_proba(input_scaled)[0]\n",
    "        crop_probs = list(zip(tuned_model.classes_, probabilities))\n",
    "        crop_probs.sort(key=lambda x: x[1], reverse=True)\n",
    "        \n",
    "        print(\"Top crop recommendations:\")\n",
    "        for i, (crop_name, prob) in enumerate(crop_probs[:5], 1):\n",
    "            print(f\"{i}. {crop_name} ({prob:.2%} confidence)\")\n",
    "    else:\n",
    "        print(f\"Recommended crop: {crop}\")\n",
    "    \n",
    "    return crop"
   ]
  },
  {
   "cell_type": "code",
   "execution_count": null,
   "id": "e812a9c7",
   "metadata": {},
   "outputs": [],
   "source": [
    "# Example: Test the recommendation system with different soil parameters\n",
    "print(\"Example 1: High Nitrogen, High Phosphorus, Neutral pH\")\n",
    "recommend_crop(N=90, P=45, K=40, ph=7.0)\n",
    "\n",
    "print(\"\\nExample 2: Low Nitrogen, High Phosphorus, High pH\")\n",
    "recommend_crop(N=30, P=70, K=80, ph=7.5)\n",
    "\n",
    "print(\"\\nExample 3: Balanced NPK, Slightly Acidic pH\")\n",
    "recommend_crop(N=60, P=60, K=60, ph=6.5)"
   ]
  },
  {
   "cell_type": "markdown",
   "id": "2b129e69",
   "metadata": {},
   "source": [
    "## 8. Create an Interactive Tool for Farmers\n",
    "\n",
    "Let's create a simple interactive tool using ipywidgets that farmers could use to get crop recommendations."
   ]
  },
  {
   "cell_type": "code",
   "execution_count": null,
   "id": "c9ffa038",
   "metadata": {},
   "outputs": [],
   "source": [
    "# Import ipywidgets for interactive features\n",
    "import ipywidgets as widgets\n",
    "from IPython.display import display, clear_output\n",
    "\n",
    "# Create sliders for input parameters\n",
    "N_slider = widgets.FloatSlider(min=0, max=140, step=1, value=50, description='Nitrogen (N):')\n",
    "P_slider = widgets.FloatSlider(min=5, max=145, step=1, value=50, description='Phosphorus (P):')\n",
    "K_slider = widgets.FloatSlider(min=5, max=205, step=1, value=50, description='Potassium (K):')\n",
    "ph_slider = widgets.FloatSlider(min=3.5, max=10, step=0.1, value=6.5, description='pH level:')\n",
    "\n",
    "# Create output widget\n",
    "output = widgets.Output()\n",
    "\n",
    "# Create button\n",
    "button = widgets.Button(description='Get Crop Recommendations')\n",
    "\n",
    "# Define button click event\n",
    "def on_button_click(b):\n",
    "    with output:\n",
    "        clear_output()\n",
    "        N = N_slider.value\n",
    "        P = P_slider.value\n",
    "        K = K_slider.value\n",
    "        ph = ph_slider.value\n",
    "        \n",
    "        print(f\"Soil Parameters:\\nN: {N} ppm, P: {P} ppm, K: {K} ppm, pH: {ph}\")\n",
    "        print(\"\\nAnalyzing soil properties...\\n\")\n",
    "        recommend_crop(N, P, K, ph)\n",
    "\n",
    "button.on_click(on_button_click)\n",
    "\n",
    "# Display the interactive tool\n",
    "display(N_slider, P_slider, K_slider, ph_slider, button, output)"
   ]
  },
  {
   "cell_type": "markdown",
   "id": "8ba8b5f1",
   "metadata": {},
   "source": [
    "## 9. Insights and Recommendations\n",
    "\n",
    "Based on our analysis and model, here are some key insights and recommendations for farmers:"
   ]
  },
  {
   "cell_type": "markdown",
   "id": "b3cf3893",
   "metadata": {},
   "source": [
    "### Key Insights:\n",
    "\n",
    "1. **Soil Nutrient Requirements Vary by Crop**: Different crops have distinct requirements for nitrogen, phosphorus, and potassium. Our analysis shows clear patterns in optimal NPK levels for each crop type.\n",
    "\n",
    "2. **pH Importance**: Soil pH plays a critical role in determining crop suitability, as it affects nutrient availability to plants.\n",
    "\n",
    "3. **Nutrient Ratios Matter**: Beyond absolute levels of nutrients, the ratios between N, P, and K are important factors in crop success.\n",
    "\n",
    "4. **Feature Importance**: Our model indicates that the most important factors for crop selection are (to be filled in based on actual model results).\n",
    "\n",
    "### Recommendations for Farmers:\n",
    "\n",
    "1. **Soil Testing**: Regular soil testing is essential for informed decision-making. Our model works best with accurate soil measurements.\n",
    "\n",
    "2. **Crop Rotation**: Consider crop rotation strategies based on soil nutrient profiles to avoid depleting specific nutrients.\n",
    "\n",
    "3. **Targeted Fertilization**: Apply fertilizers strategically based on identified deficiencies rather than using generic fertilizer mixes.\n",
    "\n",
    "4. **pH Management**: Adjust soil pH as needed for optimal crop growth using lime (to raise pH) or sulfur (to lower pH).\n",
    "\n",
    "5. **Precision Agriculture**: Use our prediction model as one tool in a broader precision agriculture approach that takes into account local conditions and experience."
   ]
  },
  {
   "cell_type": "markdown",
   "id": "8e273620",
   "metadata": {},
   "source": [
    "## 10. Future Work and Extensions\n",
    "\n",
    "There are several ways this project could be extended or improved:"
   ]
  },
  {
   "cell_type": "markdown",
   "id": "c4b8a909",
   "metadata": {},
   "source": [
    "1. **Weather Data Integration**: Incorporate weather forecast data to improve crop yield predictions based on both soil and climate conditions.\n",
    "\n",
    "2. **Geographic Specialization**: Develop region-specific models that account for local climate patterns and soil characteristics.\n",
    "\n",
    "3. **Time Series Analysis**: Add seasonal effects by collecting and analyzing data across multiple growing seasons.\n",
    "\n",
    "4. **Mobile App Development**: Create a mobile application that allows farmers to input soil test results and receive crop recommendations in the field.\n",
    "\n",
    "5. **Economic Factors**: Include market price data to recommend crops with the best economic potential based on current market conditions.\n",
    "\n",
    "6. **Irrigation Optimization**: Develop models that recommend optimal irrigation schedules based on crop type, soil conditions, and weather forecasts.\n",
    "\n",
    "7. **Expanded Dataset**: Collect more data points including micronutrients, organic matter content, soil texture, and depth to provide more nuanced recommendations."
   ]
  },
  {
   "cell_type": "markdown",
   "id": "6a63ecdc",
   "metadata": {},
   "source": [
    "## Conclusion\n",
    "\n",
    "This project demonstrates how machine learning can be applied to agricultural data to provide data-driven recommendations for farmers. By analyzing soil measurements, we've built a model that can predict suitable crops with high accuracy.\n",
    "\n",
    "Our interactive tool provides an accessible way for farmers to use this model for their specific soil conditions. The insights gained from this analysis can help optimize resource use, increase crop yields, and support sustainable farming practices.\n",
    "\n",
    "As we gather more data and refine our models, the accuracy and applicability of these recommendations will continue to improve, contributing to more efficient and productive agricultural systems."
   ]
  }
 ],
 "metadata": {
  "kernelspec": {
   "display_name": "Python 3",
   "language": "python",
   "name": "python3"
  },
  "language_info": {
   "name": "python",
   "version": "3.12.3"
  }
 },
 "nbformat": 4,
 "nbformat_minor": 5
}
