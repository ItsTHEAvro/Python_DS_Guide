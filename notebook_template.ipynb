{
 "cells": [
  {
   "cell_type": "markdown",
   "id": "a232019c",
   "metadata": {},
   "source": [
    "# Project Title\n",
    "\n",
    "## Project Overview\n",
    "- **Date**: [Current Date]\n",
    "- **Author**: [Your Name]\n",
    "- **Objective**: [Brief description of what this analysis aims to accomplish]\n",
    "- **Data Source**: [Where the data came from]\n",
    "\n",
    "## Table of Contents\n",
    "1. [Data Loading and Initial Inspection](#1.-Data-Loading-and-Initial-Inspection)\n",
    "2. [Data Cleaning and Preprocessing](#2.-Data-Cleaning-and-Preprocessing)\n",
    "3. [Exploratory Data Analysis](#3.-Exploratory-Data-Analysis)\n",
    "4. [Feature Engineering](#4.-Feature-Engineering)\n",
    "5. [Model Building](#5.-Model-Building)\n",
    "6. [Model Evaluation](#6.-Model-Evaluation)\n",
    "7. [Conclusions and Next Steps](#7.-Conclusions-and-Next-Steps)"
   ]
  },
  {
   "cell_type": "markdown",
   "id": "4de35504",
   "metadata": {},
   "source": [
    "## Setup and Imports"
   ]
  },
  {
   "cell_type": "code",
   "execution_count": null,
   "id": "2eec6e23",
   "metadata": {},
   "outputs": [],
   "source": [
    "# Standard libraries\n",
    "import numpy as np\n",
    "import pandas as pd\n",
    "import matplotlib.pyplot as plt\n",
    "import seaborn as sns\n",
    "from datetime import datetime\n",
    "import os\n",
    "import warnings\n",
    "\n",
    "# Machine Learning libraries (uncomment as needed)\n",
    "# from sklearn.model_selection import train_test_split\n",
    "# from sklearn.preprocessing import StandardScaler, MinMaxScaler\n",
    "# from sklearn.linear_model import LinearRegression, LogisticRegression\n",
    "# from sklearn.ensemble import RandomForestClassifier, GradientBoostingRegressor\n",
    "# from sklearn.metrics import accuracy_score, mean_squared_error, classification_report\n",
    "# from sklearn.pipeline import Pipeline\n",
    "\n",
    "# Set visualization style\n",
    "plt.style.use('seaborn-v0_8-whitegrid')\n",
    "sns.set(font_scale=1.2)\n",
    "\n",
    "# Configure pandas display options\n",
    "pd.set_option('display.max_columns', 100)\n",
    "pd.set_option('display.max_rows', 100)\n",
    "pd.set_option('display.float_format', '{:.2f}'.format)\n",
    "\n",
    "# Ignore warnings\n",
    "warnings.filterwarnings('ignore')"
   ]
  },
  {
   "cell_type": "markdown",
   "id": "f3f4aca8",
   "metadata": {},
   "source": [
    "## 1. Data Loading and Initial Inspection"
   ]
  },
  {
   "cell_type": "code",
   "execution_count": null,
   "id": "7aeeecc1",
   "metadata": {},
   "outputs": [],
   "source": [
    "# Define the file path\n",
    "file_path = '../data/dataset.csv'  # Adjust this path\n",
    "\n",
    "# Load the data\n",
    "df = pd.read_csv(file_path)\n",
    "\n",
    "# Display basic information\n",
    "print(f\"Dataset shape: {df.shape}\")\n",
    "print(f\"\\nColumns: {df.columns.tolist()}\")\n",
    "\n",
    "# Display a few rows\n",
    "print(\"\\nFirst few rows:\")\n",
    "display(df.head())"
   ]
  },
  {
   "cell_type": "code",
   "execution_count": null,
   "id": "ed92be53",
   "metadata": {},
   "outputs": [],
   "source": [
    "# Get data types and null values\n",
    "df.info()"
   ]
  },
  {
   "cell_type": "code",
   "execution_count": null,
   "id": "d17c4100",
   "metadata": {},
   "outputs": [],
   "source": [
    "# Check for missing values\n",
    "missing_values = df.isnull().sum()\n",
    "missing_percentage = 100 * missing_values / len(df)\n",
    "missing_df = pd.DataFrame({\n",
    "    'Missing Values': missing_values,\n",
    "    'Percentage': missing_percentage\n",
    "})\n",
    "\n",
    "# Display only columns with missing values\n",
    "missing_df = missing_df[missing_df['Missing Values'] > 0].sort_values('Missing Values', ascending=False)\n",
    "display(missing_df)"
   ]
  },
  {
   "cell_type": "code",
   "execution_count": null,
   "id": "005a9385",
   "metadata": {},
   "outputs": [],
   "source": [
    "# Get basic statistics\n",
    "df.describe(include='all').T"
   ]
  },
  {
   "cell_type": "markdown",
   "id": "9787922a",
   "metadata": {},
   "source": [
    "## 2. Data Cleaning and Preprocessing"
   ]
  },
  {
   "cell_type": "code",
   "execution_count": null,
   "id": "08035dab",
   "metadata": {},
   "outputs": [],
   "source": [
    "# Create a copy for cleaning\n",
    "df_clean = df.copy()\n",
    "\n",
    "# Handle missing values (example)\n",
    "# df_clean['column_name'].fillna(df_clean['column_name'].median(), inplace=True)\n",
    "\n",
    "# Handle duplicates\n",
    "duplicates = df_clean.duplicated().sum()\n",
    "print(f\"Number of duplicate rows: {duplicates}\")\n",
    "\n",
    "if duplicates > 0:\n",
    "    df_clean = df_clean.drop_duplicates().reset_index(drop=True)\n",
    "    print(f\"Dropped {duplicates} duplicate rows. New shape: {df_clean.shape}\")"
   ]
  },
  {
   "cell_type": "markdown",
   "id": "afb36337",
   "metadata": {},
   "source": [
    "## 3. Exploratory Data Analysis"
   ]
  },
  {
   "cell_type": "markdown",
   "id": "1b84bfe7",
   "metadata": {},
   "source": [
    "### Numerical Variables Analysis"
   ]
  },
  {
   "cell_type": "code",
   "execution_count": null,
   "id": "393cf7c7",
   "metadata": {},
   "outputs": [],
   "source": [
    "# Select numerical columns\n",
    "numerical_cols = df_clean.select_dtypes(include=['int64', 'float64']).columns.tolist()\n",
    "print(f\"Numerical columns: {numerical_cols}\")\n",
    "\n",
    "# Create histograms for numerical variables\n",
    "if len(numerical_cols) > 0:\n",
    "    plt.figure(figsize=(15, 10))\n",
    "    for i, col in enumerate(numerical_cols[:9]):  # Limit to 9 columns for readability\n",
    "        plt.subplot(3, 3, i+1)\n",
    "        sns.histplot(df_clean[col], kde=True)\n",
    "        plt.title(col)\n",
    "        plt.tight_layout()\n",
    "    plt.show()"
   ]
  },
  {
   "cell_type": "markdown",
   "id": "061747ae",
   "metadata": {},
   "source": [
    "### Categorical Variables Analysis"
   ]
  },
  {
   "cell_type": "code",
   "execution_count": null,
   "id": "eff788bd",
   "metadata": {},
   "outputs": [],
   "source": [
    "# Select categorical columns\n",
    "categorical_cols = df_clean.select_dtypes(include=['object', 'category']).columns.tolist()\n",
    "print(f\"Categorical columns: {categorical_cols}\")\n",
    "\n",
    "# Count plots for categorical variables\n",
    "if len(categorical_cols) > 0:\n",
    "    plt.figure(figsize=(15, 10))\n",
    "    for i, col in enumerate(categorical_cols[:9]):  # Limit to 9 columns for readability\n",
    "        plt.subplot(3, 3, i+1)\n",
    "        value_counts = df_clean[col].value_counts()\n",
    "        if len(value_counts) > 10:  # If too many categories, show only top 10\n",
    "            value_counts = value_counts.nlargest(10)\n",
    "        sns.barplot(x=value_counts.index, y=value_counts.values)\n",
    "        plt.xticks(rotation=45)\n",
    "        plt.title(col)\n",
    "        plt.tight_layout()\n",
    "    plt.show()"
   ]
  },
  {
   "cell_type": "markdown",
   "id": "72879c4a",
   "metadata": {},
   "source": [
    "### Correlation Analysis"
   ]
  },
  {
   "cell_type": "code",
   "execution_count": null,
   "id": "58738e6b",
   "metadata": {},
   "outputs": [],
   "source": [
    "if len(numerical_cols) > 1:\n",
    "    # Calculate correlation matrix\n",
    "    corr_matrix = df_clean[numerical_cols].corr()\n",
    "    \n",
    "    # Plot correlation matrix\n",
    "    plt.figure(figsize=(12, 10))\n",
    "    mask = np.triu(np.ones_like(corr_matrix, dtype=bool))\n",
    "    sns.heatmap(corr_matrix, mask=mask, annot=True, fmt='.2f', cmap='coolwarm', \n",
    "                linewidths=0.5, vmin=-1, vmax=1)\n",
    "    plt.title('Correlation Matrix')\n",
    "    plt.show()"
   ]
  },
  {
   "cell_type": "markdown",
   "id": "7d063349",
   "metadata": {},
   "source": [
    "## 4. Feature Engineering"
   ]
  },
  {
   "cell_type": "code",
   "execution_count": null,
   "id": "ab7141be",
   "metadata": {},
   "outputs": [],
   "source": [
    "# Create new features based on existing ones\n",
    "# Example: df_clean['new_feature'] = df_clean['feature1'] / df_clean['feature2']\n",
    "\n",
    "# Encode categorical variables if needed\n",
    "# from sklearn.preprocessing import OneHotEncoder, LabelEncoder"
   ]
  },
  {
   "cell_type": "markdown",
   "id": "5dc71519",
   "metadata": {},
   "source": [
    "## 5. Model Building"
   ]
  },
  {
   "cell_type": "code",
   "execution_count": null,
   "id": "d7594f28",
   "metadata": {},
   "outputs": [],
   "source": [
    "# Define features and target\n",
    "# X = df_clean.drop('target', axis=1)\n",
    "# y = df_clean['target']\n",
    "\n",
    "# Split the data\n",
    "# X_train, X_test, y_train, y_test = train_test_split(X, y, test_size=0.2, random_state=42)\n",
    "\n",
    "# Feature scaling if needed\n",
    "# scaler = StandardScaler()\n",
    "# X_train_scaled = scaler.fit_transform(X_train)\n",
    "# X_test_scaled = scaler.transform(X_test)\n",
    "\n",
    "# Train a model (example)\n",
    "# model = RandomForestClassifier(random_state=42)\n",
    "# model.fit(X_train_scaled, y_train)"
   ]
  },
  {
   "cell_type": "markdown",
   "id": "dd954e51",
   "metadata": {},
   "source": [
    "## 6. Model Evaluation"
   ]
  },
  {
   "cell_type": "code",
   "execution_count": null,
   "id": "1bccd23f",
   "metadata": {},
   "outputs": [],
   "source": [
    "# Make predictions\n",
    "# y_pred = model.predict(X_test_scaled)\n",
    "\n",
    "# Evaluate performance (example for classification)\n",
    "# print(\"Accuracy:\", accuracy_score(y_test, y_pred))\n",
    "# print(\"\\nClassification Report:\\n\", classification_report(y_test, y_pred))\n",
    "\n",
    "# Feature importance (if applicable)\n",
    "# feature_importances = model.feature_importances_\n",
    "# feature_importance_df = pd.DataFrame({\n",
    "#     'Feature': X.columns,\n",
    "#     'Importance': feature_importances\n",
    "# }).sort_values('Importance', ascending=False)\n",
    "# \n",
    "# plt.figure(figsize=(10, 6))\n",
    "# sns.barplot(x='Importance', y='Feature', data=feature_importance_df[:15])\n",
    "# plt.title('Feature Importance')\n",
    "# plt.tight_layout()\n",
    "# plt.show()"
   ]
  },
  {
   "cell_type": "markdown",
   "id": "0e1351d5",
   "metadata": {},
   "source": [
    "## 7. Conclusions and Next Steps"
   ]
  },
  {
   "cell_type": "markdown",
   "id": "eaa219d2",
   "metadata": {},
   "source": [
    "### Key Findings\n",
    "\n",
    "- Finding 1\n",
    "- Finding 2\n",
    "- Finding 3\n",
    "\n",
    "### Next Steps\n",
    "\n",
    "- Step 1\n",
    "- Step 2\n",
    "- Step 3"
   ]
  }
 ],
 "metadata": {
  "language_info": {
   "name": "python"
  }
 },
 "nbformat": 4,
 "nbformat_minor": 5
}
